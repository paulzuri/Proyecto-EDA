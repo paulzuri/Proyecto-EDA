{
 "cells": [
  {
   "cell_type": "raw",
   "metadata": {},
   "source": [
    "---\n",
    "title: \"Proyecto EDA\"\n",
    "author: \"Ian Oñate, Marlon Zurita\"\n",
    "date: '2023-01-07'\n",
    "bibliography: references.bib\n",
    "lang: es\n",
    "format:\n",
    "    pdf:\n",
    "        toc: true\n",
    "        toc-title: \"Tabla de Contenidos\"\n",
    "        fig-pos: H\n",
    "execute:\n",
    "    echo: true\n",
    "    error: false\n",
    "    warning: false\n",
    "code-fold: true\n",
    "jupyter: python3\n",
    "---"
   ]
  },
  {
   "cell_type": "markdown",
   "metadata": {},
   "source": [
    "# Proyecto de EDA: BFS y DFS\n",
    "## Ian Oñate\n",
    "## Paul Zurita\n",
    "\n",
    "## 1. Introduccion\n",
    "\n",
    "..."
   ]
  }
 ],
 "metadata": {
  "language_info": {
   "name": "python"
  }
 },
 "nbformat": 4,
 "nbformat_minor": 2
}
