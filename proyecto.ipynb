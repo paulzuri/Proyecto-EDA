{
 "cells": [
  {
   "cell_type": "raw",
   "metadata": {},
   "source": [
    "---\n",
    "title: \"Proyecto EDA\"\n",
    "author: \"Ian Oñate, Marlon Zurita\"\n",
    "date: '2023-01-07'\n",
    "bibliography: references.bib\n",
    "lang: es\n",
    "format:\n",
    "    pdf:\n",
    "        toc: true\n",
    "        toc-title: \"Tabla de Contenidos\"\n",
    "        fig-pos: H\n",
    "execute:\n",
    "    echo: true\n",
    "    error: false\n",
    "    warning: false\n",
    "code-fold: true\n",
    "jupyter: python3\n",
    "---"
   ]
  },
  {
   "cell_type": "markdown",
   "metadata": {},
   "source": [
    "# Proyecto de EDA 2: BFS y DFS\n",
    "### Ian Oñate\n",
    "### Paul Zurita\n",
    "\n",
    "## 1. Objetivos\n",
    "\n",
    "## 2. Introducción\n",
    "\n",
    "## 3. Desarrollo\n",
    "Este es el código"
   ]
  },
  {
   "cell_type": "code",
   "execution_count": 5,
   "metadata": {},
   "outputs": [
    {
     "name": "stdout",
     "output_type": "stream",
     "text": [
      "1: (1 -> 2, None)\n",
      "2: (2 -> 1, None), (2 -> 3, None)\n",
      "3: (3 -> 4, None)\n",
      "4: (4 -> 1, None)\n"
     ]
    }
   ],
   "source": [
    "# Implementación del Grafo con ADT y OOP\n",
    "\n",
    "class Nodo:\n",
    "    def __init__(self, dato):\n",
    "        self.dato = dato\n",
    "        self.vecinos = []\n",
    "\n",
    "    def add_vecino(self, vecino):\n",
    "        self.vecinos.append(vecino)\n",
    "\n",
    "    def __str__(self):\n",
    "        return f\"{self.dato}: {', '.join(str(n) for n in self.vecinos)}\"\n",
    "\n",
    "\n",
    "class Arista:\n",
    "    def __init__(self, fuente, dest, peso=None):\n",
    "        self.fuente = fuente\n",
    "        self.dest = dest\n",
    "        self.peso = peso\n",
    "\n",
    "    def __str__(self):\n",
    "        return f\"({self.fuente} -> {self.dest}, {self.peso})\"\n",
    "\n",
    "\n",
    "class Grafo:\n",
    "    def __init__(self):\n",
    "        self.nodos = {}\n",
    "\n",
    "    def add_nodo(self, dato):\n",
    "        if dato not in self.nodos:\n",
    "            self.nodos[dato] = Nodo(dato)\n",
    "\n",
    "    def add_arista(self, fuente, dest, peso=None):\n",
    "        self.add_nodo(fuente)\n",
    "        self.add_nodo(dest)\n",
    "        self.nodos[fuente].add_vecino(Arista(fuente, dest, peso))\n",
    "\n",
    "    def print_grafo(self):\n",
    "        for nodo in self.nodos.values():\n",
    "            print(nodo)\n",
    "\n",
    "# Definicion de un grafo por consola\n",
    "\n",
    "grafo = Grafo()\n",
    "grafo.add_nodo(1)\n",
    "grafo.add_nodo(2)\n",
    "grafo.add_nodo(3)\n",
    "grafo.add_nodo(4)\n",
    "grafo.add_arista(1,2)\n",
    "grafo.add_arista(2,1)\n",
    "grafo.add_arista(2,3)\n",
    "grafo.add_arista(3,4)\n",
    "grafo.add_arista(4,1)\n",
    "grafo.print_grafo()\n",
    "# Demo BFS\n",
    "\n",
    "# Demo DFS\n"
   ]
  },
  {
   "cell_type": "markdown",
   "metadata": {},
   "source": [
    "## 4. Conclusiones\n",
    "\n",
    "## 5. Referencias"
   ]
  }
 ],
 "metadata": {
  "kernelspec": {
   "display_name": "Python 3",
   "language": "python",
   "name": "python3"
  },
  "language_info": {
   "codemirror_mode": {
    "name": "ipython",
    "version": 3
   },
   "file_extension": ".py",
   "mimetype": "text/x-python",
   "name": "python",
   "nbconvert_exporter": "python",
   "pygments_lexer": "ipython3",
   "version": "3.12.0"
  }
 },
 "nbformat": 4,
 "nbformat_minor": 2
}
